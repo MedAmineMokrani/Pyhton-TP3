{
 "cells": [
  {
   "cell_type": "markdown",
   "metadata": {},
   "source": [
    "Un Web Service est une application qui permet d’échanger des données avec d’autres applications web.\n",
    "Même si ces dernières sont construites dans des langages de programmation différents.\n",
    "Parmi les Web Services les plus connus on peut citer SOAP, REST ou HTTP.\n",
    "Elles sont utilisées généralement sur des infrastructure cloud, en cloud public, privé ou en cloud hybride "
   ]
  },
  {
   "cell_type": "markdown",
   "metadata": {},
   "source": [
    "Une API REST (également appelée API RESTful) est une interface de programmation d'application (API ou API web) qui respecte les contraintes du style d'architecture REST et permet d'interagir avec les services web RESTful. L'architecture REST (Representational State Transfer) a été créée par l'informaticien Roy Fielding."
   ]
  },
  {
   "cell_type": "markdown",
   "metadata": {},
   "source": [
    "FastAPI est un framework Web pour développer des API RESTful en Python. FastAPI est basé sur Pydantic et des indications de type pour valider, sérialiser et désérialiser les données, et générer automatiquement des documents OpenAPI"
   ]
  }
 ],
 "metadata": {
  "language_info": {
   "name": "python"
  },
  "orig_nbformat": 4
 },
 "nbformat": 4,
 "nbformat_minor": 2
}
